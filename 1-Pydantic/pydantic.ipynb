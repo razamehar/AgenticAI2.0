{
 "cells": [
  {
   "cell_type": "code",
   "execution_count": 25,
   "id": "9310ce16",
   "metadata": {},
   "outputs": [],
   "source": [
    "from pydantic import BaseModel, Field\n",
    "from typing import Optional, List"
   ]
  },
  {
   "cell_type": "code",
   "execution_count": 4,
   "id": "17bc6b3a",
   "metadata": {},
   "outputs": [],
   "source": [
    "class Employee(BaseModel):\n",
    "\n",
    "    id: int\n",
    "    name: str\n",
    "    department: str\n",
    "    salary: Optional[float] = None\n",
    "    is_active: Optional[bool] = True"
   ]
  },
  {
   "cell_type": "code",
   "execution_count": 13,
   "id": "950c2673",
   "metadata": {},
   "outputs": [
    {
     "name": "stdout",
     "output_type": "stream",
     "text": [
      "id=1 name='raza' department='ai' salary=None is_active=True\n"
     ]
    }
   ],
   "source": [
    "emp1 = Employee(id=1, name=\"raza\", department=\"ai\", is_active=1)\n",
    "print(emp1)"
   ]
  },
  {
   "cell_type": "code",
   "execution_count": 16,
   "id": "ec597623",
   "metadata": {},
   "outputs": [],
   "source": [
    "class Classroom(BaseModel):\n",
    "    room_no: str\n",
    "    students: List[str]\n",
    "    capacity: int"
   ]
  },
  {
   "cell_type": "code",
   "execution_count": null,
   "id": "003e15d4",
   "metadata": {},
   "outputs": [
    {
     "name": "stdout",
     "output_type": "stream",
     "text": [
      "room_no='A101' students=['Raza', 'Madiha', 'Ali'] capacity=3\n"
     ]
    }
   ],
   "source": [
    "classroom = Classroom(\n",
    "    room_no=\"A101\",\n",
    "    students=(\"Raza\", \"Madiha\", \"Ali\"),\n",
    "    capacity=3\n",
    ")\n",
    "\n",
    "print(classroom)"
   ]
  },
  {
   "cell_type": "code",
   "execution_count": 22,
   "id": "ec670e6d",
   "metadata": {},
   "outputs": [
    {
     "name": "stdout",
     "output_type": "stream",
     "text": [
      "room_no='A101' students=['Raza', 'Madiha', 'Ali'] capacity=3\n"
     ]
    }
   ],
   "source": [
    "try: \n",
    "    classroom1 = Classroom(\n",
    "    room_no=\"A101\",\n",
    "    students=(\"Raza\", \"Madiha\", \"Ali\"),\n",
    "    capacity=3\n",
    ")\n",
    "    print(classroom1)\n",
    "    \n",
    "except ValueError as e:\n",
    "    print(e)"
   ]
  },
  {
   "cell_type": "code",
   "execution_count": 23,
   "id": "557f3bab",
   "metadata": {},
   "outputs": [],
   "source": [
    "class Address(BaseModel):\n",
    "    street: str\n",
    "    city: str\n",
    "    zip: str\n",
    "\n",
    "\n",
    "class Customer(BaseModel):\n",
    "    id: int\n",
    "    name: str\n",
    "    address: Address"
   ]
  },
  {
   "cell_type": "code",
   "execution_count": 24,
   "id": "85d712a1",
   "metadata": {},
   "outputs": [
    {
     "name": "stdout",
     "output_type": "stream",
     "text": [
      "id=1 name='raza' address=Address(street='Via benedetto', city='Napoli', zip='800142')\n"
     ]
    }
   ],
   "source": [
    "customer1 = Customer(\n",
    "    id=1,\n",
    "    name=\"raza\",\n",
    "    address={\"street\":\"Via benedetto\",\"city\":\"Napoli\", \"zip\":\"800142\" }\n",
    ")\n",
    "\n",
    "print(customer1)"
   ]
  },
  {
   "cell_type": "code",
   "execution_count": 35,
   "id": "1132d1c9",
   "metadata": {},
   "outputs": [],
   "source": [
    "class Item(BaseModel):\n",
    "    name: str=Field(min_length=2, max_length=50),\n",
    "    price: float=Field(gt=0, le=1000)\n",
    "    qty: int=Field(ge=1)"
   ]
  },
  {
   "cell_type": "code",
   "execution_count": 37,
   "id": "f77f1407",
   "metadata": {},
   "outputs": [
    {
     "name": "stdout",
     "output_type": "stream",
     "text": [
      "name='Raza' price=2.0 qty=40\n"
     ]
    }
   ],
   "source": [
    "item1 = Item(name=\"Raza\", price=2, qty=40)\n",
    "print(item1)"
   ]
  },
  {
   "cell_type": "code",
   "execution_count": null,
   "id": "31e12ddf",
   "metadata": {},
   "outputs": [],
   "source": []
  }
 ],
 "metadata": {
  "kernelspec": {
   "display_name": "Python 3",
   "language": "python",
   "name": "python3"
  },
  "language_info": {
   "codemirror_mode": {
    "name": "ipython",
    "version": 3
   },
   "file_extension": ".py",
   "mimetype": "text/x-python",
   "name": "python",
   "nbconvert_exporter": "python",
   "pygments_lexer": "ipython3",
   "version": "3.9.22"
  }
 },
 "nbformat": 4,
 "nbformat_minor": 5
}
