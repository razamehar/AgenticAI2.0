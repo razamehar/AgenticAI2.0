{
 "cells": [
  {
   "cell_type": "markdown",
   "id": "daf697a0",
   "metadata": {},
   "source": [
    "Builtin Tools"
   ]
  },
  {
   "cell_type": "code",
   "execution_count": 17,
   "id": "4750ff76",
   "metadata": {},
   "outputs": [],
   "source": [
    "\n",
    "from langchain_community.tools import WikipediaQueryRun\n",
    "from langchain_community.utilities import WikipediaAPIWrapper"
   ]
  },
  {
   "cell_type": "code",
   "execution_count": 2,
   "id": "22a3deb0",
   "metadata": {},
   "outputs": [],
   "source": [
    "\n",
    "api_wrapper=WikipediaAPIWrapper(top_k_results=5,doc_content_chars_max= 500)"
   ]
  },
  {
   "cell_type": "code",
   "execution_count": 3,
   "id": "0a24399d",
   "metadata": {},
   "outputs": [],
   "source": [
    "\n",
    "wiki_tool=WikipediaQueryRun(api_wrapper=api_wrapper)"
   ]
  },
  {
   "cell_type": "code",
   "execution_count": 4,
   "id": "55bdee1a",
   "metadata": {},
   "outputs": [
    {
     "data": {
      "text/plain": [
       "'wikipedia'"
      ]
     },
     "execution_count": 4,
     "metadata": {},
     "output_type": "execute_result"
    }
   ],
   "source": [
    "wiki_tool.name"
   ]
  },
  {
   "cell_type": "code",
   "execution_count": 5,
   "id": "694a0441",
   "metadata": {},
   "outputs": [
    {
     "data": {
      "text/plain": [
       "'A wrapper around Wikipedia. Useful for when you need to answer general questions about people, places, companies, facts, historical events, or other subjects. Input should be a search query.'"
      ]
     },
     "execution_count": 5,
     "metadata": {},
     "output_type": "execute_result"
    }
   ],
   "source": [
    "\n",
    "wiki_tool.description"
   ]
  },
  {
   "cell_type": "code",
   "execution_count": 6,
   "id": "16291bc5",
   "metadata": {},
   "outputs": [
    {
     "data": {
      "text/plain": [
       "{'query': {'description': 'query to look up on wikipedia',\n",
       "  'title': 'Query',\n",
       "  'type': 'string'}}"
      ]
     },
     "execution_count": 6,
     "metadata": {},
     "output_type": "execute_result"
    }
   ],
   "source": [
    "wiki_tool.args"
   ]
  },
  {
   "cell_type": "code",
   "execution_count": 9,
   "id": "02d7c4be",
   "metadata": {},
   "outputs": [
    {
     "name": "stderr",
     "output_type": "stream",
     "text": [
      "d:\\Data Science\\My Projects\\AgenticAI\\venv\\lib\\site-packages\\wikipedia\\wikipedia.py:389: GuessedAtParserWarning: No parser was explicitly specified, so I'm using the best available HTML parser for this system (\"html.parser\"). This usually isn't a problem, but if you run this code on another system, or in a different virtual environment, it may use a different parser and behave differently.\n",
      "\n",
      "The code that caused this warning is on line 389 of the file d:\\Data Science\\My Projects\\AgenticAI\\venv\\lib\\site-packages\\wikipedia\\wikipedia.py. To get rid of this warning, pass the additional argument 'features=\"html.parser\"' to the BeautifulSoup constructor.\n",
      "\n",
      "  lis = BeautifulSoup(html).find_all('li')\n"
     ]
    },
    {
     "data": {
      "text/plain": [
       "'Page: Artificial intelligence\\nSummary: Artificial intelligence (AI) is the capability of computational systems to perform tasks typically associated with human intelligence, such as learning, reasoning, problem-solving, perception, and decision-making. It is a field of research in computer science that develops and studies methods and software that enable machines to perceive their environment and use learning and intelligence to take actions that maximize their chances of achieving defined goal'"
      ]
     },
     "execution_count": 9,
     "metadata": {},
     "output_type": "execute_result"
    }
   ],
   "source": [
    "\n",
    "wiki_tool.run({\"query\":\"AI\"})"
   ]
  },
  {
   "cell_type": "code",
   "execution_count": 8,
   "id": "6335f2ab",
   "metadata": {},
   "outputs": [
    {
     "name": "stderr",
     "output_type": "stream",
     "text": [
      "d:\\Data Science\\My Projects\\AgenticAI\\venv\\lib\\site-packages\\wikipedia\\wikipedia.py:389: GuessedAtParserWarning: No parser was explicitly specified, so I'm using the best available HTML parser for this system (\"html.parser\"). This usually isn't a problem, but if you run this code on another system, or in a different virtual environment, it may use a different parser and behave differently.\n",
      "\n",
      "The code that caused this warning is on line 389 of the file d:\\Data Science\\My Projects\\AgenticAI\\venv\\lib\\site-packages\\wikipedia\\wikipedia.py. To get rid of this warning, pass the additional argument 'features=\"html.parser\"' to the BeautifulSoup constructor.\n",
      "\n",
      "  lis = BeautifulSoup(html).find_all('li')\n"
     ]
    },
    {
     "data": {
      "text/plain": [
       "'Page: Star\\nSummary: A star is a luminous spheroid of plasma held together by self-gravity. The nearest star to Earth is the Sun. Many other stars are visible to the naked eye at night; their immense distances from Earth make them appear as fixed points of light. The most prominent stars have been categorised into constellations and asterisms, and many of the brightest stars have proper names. Astronomers have assembled star catalogues that identify the known stars and provide standardized stella'"
      ]
     },
     "execution_count": 8,
     "metadata": {},
     "output_type": "execute_result"
    }
   ],
   "source": [
    "\n",
    "wiki_tool.run(\"Star\")"
   ]
  },
  {
   "cell_type": "code",
   "execution_count": 10,
   "id": "d16f49ff",
   "metadata": {},
   "outputs": [],
   "source": [
    "\n",
    "from langchain_community.tools import YouTubeSearchTool"
   ]
  },
  {
   "cell_type": "code",
   "execution_count": 11,
   "id": "c41d7732",
   "metadata": {},
   "outputs": [],
   "source": [
    "\n",
    "tool=YouTubeSearchTool()"
   ]
  },
  {
   "cell_type": "code",
   "execution_count": 12,
   "id": "5de4be94",
   "metadata": {},
   "outputs": [
    {
     "data": {
      "text/plain": [
       "\"['https://www.youtube.com/watch?v=-GdWEiJsVDA&pp=ugMGCgJpdBABugUEEgJpdMoFDHN1bm55IHNhdml0YdgHAQ%3D%3D', 'https://www.youtube.com/watch?v=_V3zqVlCACQ&pp=ygUMc3Vubnkgc2F2aXRh']\""
      ]
     },
     "execution_count": 12,
     "metadata": {},
     "output_type": "execute_result"
    }
   ],
   "source": [
    "\n",
    "tool.run(\"sunny savita\")"
   ]
  },
  {
   "cell_type": "code",
   "execution_count": 13,
   "id": "648376f4",
   "metadata": {},
   "outputs": [],
   "source": [
    "\n",
    "from langchain_community.tools.tavily_search import TavilySearchResults"
   ]
  },
  {
   "cell_type": "code",
   "execution_count": 15,
   "id": "212e57ee",
   "metadata": {},
   "outputs": [],
   "source": [
    "\n",
    "tool=TavilySearchResults(tavily_api_key=\"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\")"
   ]
  },
  {
   "cell_type": "code",
   "execution_count": 16,
   "id": "51d11a69",
   "metadata": {},
   "outputs": [
    {
     "data": {
      "text/plain": [
       "[{'title': 'Artificial intelligence - Wikipedia',\n",
       "  'url': 'https://en.wikipedia.org/wiki/Artificial_intelligence',\n",
       "  'content': '**Artificial intelligence** (**AI**) is the capability of [computational systems](https://en.wikipedia.org/wiki/Computer \"Computer\") to perform tasks typically associated with [human intelligence](https://en.wikipedia.org/wiki/Human_intelligence \"Human intelligence\"), such as learning, reasoning, problem-solving, perception, and decision-making. It is a [field of research](https://en.wikipedia.org/wiki/Field_of_research \"Field of research\") in [computer [...] intelligence](https://en.wikipedia.org/wiki/Artificial_general_intelligence \"Artificial general intelligence\") (AGI)—AI that can complete virtually any cognitive task at least as well as a human.[[5]](https://en.wikipedia.org/wiki/Artificial_intelligence#cite_note-7) [...] For medical research, AI is an important tool for processing and integrating [big data](https://en.wikipedia.org/wiki/Big_data \"Big data\"). This is particularly important for [organoid](https://en.wikipedia.org/wiki/Organoid \"Organoid\") and [tissue engineering](https://en.wikipedia.org/wiki/Tissue_engineering \"Tissue engineering\") development which use [microscopy](https://en.wikipedia.org/wiki/Microscopy \"Microscopy\") imaging as a key technique in',\n",
       "  'score': 0.8757978},\n",
       " {'title': 'What Is Artificial Intelligence (AI)? | Google Cloud',\n",
       "  'url': 'https://cloud.google.com/learn/what-is-artificial-intelligence',\n",
       "  'content': 'Artificial intelligence is a field of science concerned with building computers and machines that can reason, learn, and act in such a way that would normally require human intelligence or that involves data whose scale exceeds what humans can analyze.\\n\\nAI is a broad field that encompasses many different disciplines, including computer science, data analytics and statistics, hardware and software engineering, linguistics, neuroscience, and even philosophy and psychology. [...] Artificial intelligence (AI) is a set of technologies that enable computers to perform a variety of advanced functions, including the ability to [see](https://cloud.google.com/vision#section-8), understand and [translate spoken and written language](https://cloud.google.com/speech-to-text), [analyze data](https://cloud.google.com/vertex-ai), make recommendations, and more. [...] On an operational level for business use, AI is a set of technologies that are based primarily on machine learning and deep learning, used for data analytics, predictions and forecasting, object categorization, natural language processing, recommendations, intelligent data retrieval, and more.\\n\\nHow does AI work?\\n-----------------',\n",
       "  'score': 0.8619225},\n",
       " {'title': 'What Is Artificial Intelligence (AI)? - IBM',\n",
       "  'url': 'https://www.ibm.com/think/topics/artificial-intelligence',\n",
       "  'content': '[Eda Kavlakoglu](https://www.ibm.com/think/author/eda-kavlakoglu)\\nProgram Manager\\n\\nWhat is AI?\\n-----------\\n\\nArtificial intelligence (AI) is technology that enables computers and machines to simulate human learning, comprehension, problem solving, decision making, creativity and autonomy. [...] As AI becomes more advanced, humans are challenged to comprehend and retrace how the algorithm came to a result. [Explainable AI](https://www.ibm.com/think/topics/explainable-ai?) is a set of processes and methods that enables human users to interpret, comprehend and trust the results and output created by algorithms.\\n\\n Fairness and inclusion [...] Directly underneath AI, we have machine learning, which involves creating [models](https://www.ibm.com/think/topics/ai-model) by training an algorithm to make predictions or decisions based on data. It encompasses a broad range of techniques that enable computers to learn from and make inferences based on data without being explicitly programmed for specific tasks.',\n",
       "  'score': 0.826278},\n",
       " {'title': 'What is Artificial Intelligence? - NASA',\n",
       "  'url': 'https://www.nasa.gov/what-is-artificial-intelligence/',\n",
       "  'content': '*   An artificial system designed to think or act like a human, including cognitive architectures and neural networks.\\xa0\\n*   A set of techniques, including machine learning that is designed to approximate a cognitive task.\\xa0\\n*   An artificial system designed to act rationally, including an intelligent software agent or embodied robot that achieves goals using perception, planning, reasoning, learning, communicating, decision-making, and acting. [...] Defining Artificial Intelligence[](https://nasa.sharepoint.com/sites/dt/SitePages/Artificial-Intelligence-Machine-Learning-(AIML).aspx#artificial-intelligence-(ai))\\n--------------------------------------------------------------------------------------------------------------------------------\\n\\nArtificial intelligence refers to computer systems that can perform complex tasks normally done by human-reasoning, decision making, creating, etc. [...] *   Any artificial system that performs tasks under varying and unpredictable circumstances without significant human oversight, or that can learn from experience and improve performance when exposed to data sets.\\xa0\\n*   An artificial system developed in computer software, physical hardware, or other context that solves tasks requiring human-like perception, cognition, planning, learning, communication, or physical action.',\n",
       "  'score': 0.74363416}]"
      ]
     },
     "execution_count": 16,
     "metadata": {},
     "output_type": "execute_result"
    }
   ],
   "source": [
    "\n",
    "tool.invoke({\"query\":\"what is AI\"})"
   ]
  },
  {
   "cell_type": "markdown",
   "id": "59430c67",
   "metadata": {},
   "source": [
    "Custom Tools"
   ]
  },
  {
   "cell_type": "code",
   "execution_count": 20,
   "id": "c03283fa",
   "metadata": {},
   "outputs": [],
   "source": [
    "from langchain.agents import tool"
   ]
  },
  {
   "cell_type": "code",
   "execution_count": 22,
   "id": "37ccf433",
   "metadata": {},
   "outputs": [],
   "source": [
    "@tool\n",
    "def multiply(a: int, b:int) -> int:\n",
    "    \"\"\" This tool performs multiplication between two numbers and returns the result\"\"\"\n",
    "    return a * b"
   ]
  },
  {
   "cell_type": "code",
   "execution_count": 25,
   "id": "193a963d",
   "metadata": {},
   "outputs": [
    {
     "data": {
      "text/plain": [
       "20"
      ]
     },
     "execution_count": 25,
     "metadata": {},
     "output_type": "execute_result"
    }
   ],
   "source": [
    "res = multiply.invoke(({\"a\":2, \"b\":10}))\n",
    "res"
   ]
  },
  {
   "cell_type": "code",
   "execution_count": 26,
   "id": "020ccccc",
   "metadata": {},
   "outputs": [
    {
     "data": {
      "text/plain": [
       "{'a': {'title': 'A', 'type': 'integer'},\n",
       " 'b': {'title': 'B', 'type': 'integer'}}"
      ]
     },
     "execution_count": 26,
     "metadata": {},
     "output_type": "execute_result"
    }
   ],
   "source": [
    "multiply.args"
   ]
  },
  {
   "cell_type": "code",
   "execution_count": 29,
   "id": "79177752",
   "metadata": {},
   "outputs": [],
   "source": [
    "@tool\n",
    "def get_word_length(word:str) -> int:\n",
    "    \"\"\"Returns length of a word\"\"\"\n",
    "    return len(word)"
   ]
  },
  {
   "cell_type": "code",
   "execution_count": 31,
   "id": "be198d9c",
   "metadata": {},
   "outputs": [
    {
     "data": {
      "text/plain": [
       "4"
      ]
     },
     "execution_count": 31,
     "metadata": {},
     "output_type": "execute_result"
    }
   ],
   "source": [
    "res = get_word_length.invoke(\"Raza\")\n",
    "res"
   ]
  },
  {
   "cell_type": "code",
   "execution_count": 34,
   "id": "60a7fb4c",
   "metadata": {},
   "outputs": [
    {
     "data": {
      "text/plain": [
       "'This tool performs multiplication between two numbers and returns the result'"
      ]
     },
     "execution_count": 34,
     "metadata": {},
     "output_type": "execute_result"
    }
   ],
   "source": [
    "multiply.description"
   ]
  },
  {
   "cell_type": "code",
   "execution_count": null,
   "id": "35523c49",
   "metadata": {},
   "outputs": [],
   "source": []
  }
 ],
 "metadata": {
  "kernelspec": {
   "display_name": "venv",
   "language": "python",
   "name": "python3"
  },
  "language_info": {
   "codemirror_mode": {
    "name": "ipython",
    "version": 3
   },
   "file_extension": ".py",
   "mimetype": "text/x-python",
   "name": "python",
   "nbconvert_exporter": "python",
   "pygments_lexer": "ipython3",
   "version": "3.9.13"
  }
 },
 "nbformat": 4,
 "nbformat_minor": 5
}
