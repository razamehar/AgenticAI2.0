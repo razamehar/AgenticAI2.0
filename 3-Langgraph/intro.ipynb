{
 "cells": [
  {
   "cell_type": "code",
   "execution_count": 1,
   "id": "e8c2630d",
   "metadata": {},
   "outputs": [],
   "source": [
    "def func1(input):\n",
    "    return input + \" from first function\""
   ]
  },
  {
   "cell_type": "code",
   "execution_count": 2,
   "id": "10406f66",
   "metadata": {},
   "outputs": [],
   "source": [
    "def func2(input):\n",
    "    return input + \" from second function\""
   ]
  },
  {
   "cell_type": "code",
   "execution_count": 3,
   "id": "4346517f",
   "metadata": {},
   "outputs": [],
   "source": [
    "def func3(input):\n",
    "    return input + \" from third function\""
   ]
  },
  {
   "cell_type": "code",
   "execution_count": 4,
   "id": "f7110480",
   "metadata": {},
   "outputs": [],
   "source": [
    "from langgraph.graph import Graph"
   ]
  },
  {
   "cell_type": "code",
   "execution_count": 5,
   "id": "7d9812d4",
   "metadata": {},
   "outputs": [],
   "source": [
    "workflow1 = Graph()"
   ]
  },
  {
   "cell_type": "code",
   "execution_count": 6,
   "id": "8ea7bf39",
   "metadata": {},
   "outputs": [
    {
     "data": {
      "text/plain": [
       "<langgraph.graph.graph.Graph at 0x2a4f14745b0>"
      ]
     },
     "execution_count": 6,
     "metadata": {},
     "output_type": "execute_result"
    }
   ],
   "source": [
    "workflow1.add_node(\"func1\", func1)"
   ]
  },
  {
   "cell_type": "code",
   "execution_count": 7,
   "id": "dbfc28dd",
   "metadata": {},
   "outputs": [
    {
     "data": {
      "text/plain": [
       "<langgraph.graph.graph.Graph at 0x2a4f14745b0>"
      ]
     },
     "execution_count": 7,
     "metadata": {},
     "output_type": "execute_result"
    }
   ],
   "source": [
    "workflow1.add_node(\"func2\", func2)"
   ]
  },
  {
   "cell_type": "code",
   "execution_count": 8,
   "id": "c39a5722",
   "metadata": {},
   "outputs": [
    {
     "data": {
      "text/plain": [
       "<langgraph.graph.graph.Graph at 0x2a4f14745b0>"
      ]
     },
     "execution_count": 8,
     "metadata": {},
     "output_type": "execute_result"
    }
   ],
   "source": [
    "workflow1.add_node(\"func3\", func3)"
   ]
  },
  {
   "cell_type": "code",
   "execution_count": 9,
   "id": "c23726ac",
   "metadata": {},
   "outputs": [
    {
     "data": {
      "text/plain": [
       "<langgraph.graph.graph.Graph at 0x2a4f14745b0>"
      ]
     },
     "execution_count": 9,
     "metadata": {},
     "output_type": "execute_result"
    }
   ],
   "source": [
    "workflow1.add_edge(\"func1\", \"func2\")\n",
    "workflow1.add_edge(\"func2\", \"func3\")"
   ]
  },
  {
   "cell_type": "code",
   "execution_count": 10,
   "id": "775fea94",
   "metadata": {},
   "outputs": [
    {
     "data": {
      "text/plain": [
       "<langgraph.graph.graph.Graph at 0x2a4f14745b0>"
      ]
     },
     "execution_count": 10,
     "metadata": {},
     "output_type": "execute_result"
    }
   ],
   "source": [
    "workflow1.set_entry_point(\"func1\")"
   ]
  },
  {
   "cell_type": "code",
   "execution_count": 11,
   "id": "feeedc6f",
   "metadata": {},
   "outputs": [
    {
     "data": {
      "text/plain": [
       "<langgraph.graph.graph.Graph at 0x2a4f14745b0>"
      ]
     },
     "execution_count": 11,
     "metadata": {},
     "output_type": "execute_result"
    }
   ],
   "source": [
    "workflow1.set_finish_point(\"func3\")"
   ]
  },
  {
   "cell_type": "code",
   "execution_count": 12,
   "id": "e4549e35",
   "metadata": {},
   "outputs": [],
   "source": [
    "app = workflow1.compile()"
   ]
  },
  {
   "cell_type": "code",
   "execution_count": 13,
   "id": "18a10adf",
   "metadata": {},
   "outputs": [
    {
     "data": {
      "text/plain": [
       "Graph(nodes={'func1': Node(id='func1', name='func1', data=func1(tags=None, recurse=True, explode_args=False, func_accepts_config=False, func_accepts={}), metadata=None), 'func2': Node(id='func2', name='func2', data=func2(tags=None, recurse=True, explode_args=False, func_accepts_config=False, func_accepts={}), metadata=None), 'func3': Node(id='func3', name='func3', data=func3(tags=None, recurse=True, explode_args=False, func_accepts_config=False, func_accepts={}), metadata=None), '__start__': Node(id='__start__', name='__start__', data=None, metadata=None), '__end__': Node(id='__end__', name='__end__', data=None, metadata=None)}, edges=[Edge(source='__start__', target='func1', data=None, conditional=False), Edge(source='func1', target='func2', data=None, conditional=False), Edge(source='func2', target='func3', data=None, conditional=False), Edge(source='func3', target='__end__', data=None, conditional=False)])"
      ]
     },
     "execution_count": 13,
     "metadata": {},
     "output_type": "execute_result"
    }
   ],
   "source": [
    "\n",
    "app.get_graph()\n"
   ]
  },
  {
   "cell_type": "code",
   "execution_count": 14,
   "id": "d997570b",
   "metadata": {},
   "outputs": [],
   "source": [
    "from IPython.display import Image, display"
   ]
  },
  {
   "cell_type": "code",
   "execution_count": 15,
   "id": "800b47cf",
   "metadata": {},
   "outputs": [
    {
     "data": {
      "image/png": "[encoded data removed]",
      "text/plain": [
       "<IPython.core.display.Image object>"
      ]
     },
     "metadata": {},
     "output_type": "display_data"
    }
   ],
   "source": [
    "\n",
    "display(Image(app.get_graph().draw_mermaid_png()))"
   ]
  },
  {
   "cell_type": "code",
   "execution_count": 16,
   "id": "4ebea959",
   "metadata": {},
   "outputs": [
    {
     "data": {
      "text/plain": [
       "'hi this is Raza from first function from second function from third function'"
      ]
     },
     "execution_count": 16,
     "metadata": {},
     "output_type": "execute_result"
    }
   ],
   "source": [
    "\n",
    "app.invoke(\"hi this is Raza\")"
   ]
  },
  {
   "cell_type": "code",
   "execution_count": 17,
   "id": "b214477b",
   "metadata": {},
   "outputs": [
    {
     "name": "stdout",
     "output_type": "stream",
     "text": [
      "here is output from func1\n",
      "_______\n",
      "hi this is Raza from first function\n",
      "\n",
      "\n",
      "here is output from func2\n",
      "_______\n",
      "hi this is Raza from first function from second function\n",
      "\n",
      "\n",
      "here is output from func3\n",
      "_______\n",
      "hi this is Raza from first function from second function from third function\n",
      "\n",
      "\n"
     ]
    }
   ],
   "source": [
    "for output in app.stream(\"hi this is Raza\"):\n",
    "    for key,value in output.items():\n",
    "        print(f\"here is output from {key}\")\n",
    "        print(\"_______\")\n",
    "        print(value)\n",
    "        print(\"\\n\")\n",
    "    "
   ]
  },
  {
   "cell_type": "code",
   "execution_count": 93,
   "id": "73332f15",
   "metadata": {},
   "outputs": [],
   "source": [
    "from dotenv import load_dotenv\n",
    "load_dotenv()\n",
    "import os"
   ]
  },
  {
   "cell_type": "code",
   "execution_count": 105,
   "id": "b8c58187",
   "metadata": {},
   "outputs": [],
   "source": [
    "os.environ['GROQ_API_KEY']=os.getenv('GROQ_API_KEY')"
   ]
  },
  {
   "cell_type": "code",
   "execution_count": 107,
   "id": "23ae7e8b",
   "metadata": {},
   "outputs": [],
   "source": [
    "from langchain_groq import ChatGroq\n",
    "\n",
    "def llm(input):\n",
    "    model=ChatGroq(model='gemma2-9b-it')\n",
    "    output=model.invoke(input)\n",
    "    return output.content"
   ]
  },
  {
   "cell_type": "code",
   "execution_count": 108,
   "id": "260c0cda",
   "metadata": {},
   "outputs": [],
   "source": [
    "\n",
    "def token_counter(input):\n",
    "    token=input.split()\n",
    "    token_number=len(token)\n",
    "    return f\"total token number in the generated answer is {token_number}\""
   ]
  },
  {
   "cell_type": "code",
   "execution_count": 109,
   "id": "3c98c28b",
   "metadata": {},
   "outputs": [],
   "source": [
    "wf2 = Graph()"
   ]
  },
  {
   "cell_type": "code",
   "execution_count": 110,
   "id": "d2fee13f",
   "metadata": {},
   "outputs": [
    {
     "data": {
      "text/plain": [
       "<langgraph.graph.graph.Graph at 0x2a4f50214c0>"
      ]
     },
     "execution_count": 110,
     "metadata": {},
     "output_type": "execute_result"
    }
   ],
   "source": [
    "wf2.add_node(\"My_LLM\", llm)\n",
    "wf2.add_node(\"token_counter\", token_counter)"
   ]
  },
  {
   "cell_type": "code",
   "execution_count": 111,
   "id": "2b1a9a2d",
   "metadata": {},
   "outputs": [
    {
     "data": {
      "text/plain": [
       "<langgraph.graph.graph.Graph at 0x2a4f50214c0>"
      ]
     },
     "execution_count": 111,
     "metadata": {},
     "output_type": "execute_result"
    }
   ],
   "source": [
    "\n",
    "wf2.add_edge(\"My_LLM\",\"token_counter\")"
   ]
  },
  {
   "cell_type": "code",
   "execution_count": 112,
   "id": "123f08b4",
   "metadata": {},
   "outputs": [
    {
     "data": {
      "text/plain": [
       "<langgraph.graph.graph.Graph at 0x2a4f50214c0>"
      ]
     },
     "execution_count": 112,
     "metadata": {},
     "output_type": "execute_result"
    }
   ],
   "source": [
    "\n",
    "wf2.set_entry_point(\"My_LLM\")"
   ]
  },
  {
   "cell_type": "code",
   "execution_count": 113,
   "id": "6494540b",
   "metadata": {},
   "outputs": [
    {
     "data": {
      "text/plain": [
       "<langgraph.graph.graph.Graph at 0x2a4f50214c0>"
      ]
     },
     "execution_count": 113,
     "metadata": {},
     "output_type": "execute_result"
    }
   ],
   "source": [
    "\n",
    "wf2.set_finish_point(\"token_counter\")"
   ]
  },
  {
   "cell_type": "code",
   "execution_count": 114,
   "id": "ad044fa5",
   "metadata": {},
   "outputs": [],
   "source": [
    "\n",
    "app=wf2.compile()"
   ]
  },
  {
   "cell_type": "code",
   "execution_count": 115,
   "id": "928fdb4b",
   "metadata": {},
   "outputs": [
    {
     "data": {
      "image/png": "[encoded data removed]",
      "text/plain": [
       "<IPython.core.display.Image object>"
      ]
     },
     "metadata": {},
     "output_type": "display_data"
    }
   ],
   "source": [
    "\n",
    "display(Image(app.get_graph().draw_mermaid_png()))"
   ]
  },
  {
   "cell_type": "code",
   "execution_count": 116,
   "id": "5633941d",
   "metadata": {},
   "outputs": [
    {
     "data": {
      "text/plain": [
       "'total token number in the generated answer is 253'"
      ]
     },
     "execution_count": 116,
     "metadata": {},
     "output_type": "execute_result"
    }
   ],
   "source": [
    "\n",
    "app.invoke(\"can you tell me about the Italy's capital?\")"
   ]
  },
  {
   "cell_type": "code",
   "execution_count": null,
   "id": "3df9edf2",
   "metadata": {},
   "outputs": [],
   "source": []
  }
 ],
 "metadata": {
  "kernelspec": {
   "display_name": "venv",
   "language": "python",
   "name": "python3"
  },
  "language_info": {
   "codemirror_mode": {
    "name": "ipython",
    "version": 3
   },
   "file_extension": ".py",
   "mimetype": "text/x-python",
   "name": "python",
   "nbconvert_exporter": "python",
   "pygments_lexer": "ipython3",
   "version": "3.9.13"
  }
 },
 "nbformat": 4,
 "nbformat_minor": 5
}
