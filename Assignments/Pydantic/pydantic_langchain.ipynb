{
 "cells": [
  {
   "cell_type": "code",
   "execution_count": 33,
   "id": "374927a9",
   "metadata": {},
   "outputs": [
    {
     "data": {
      "text/plain": [
       "True"
      ]
     },
     "execution_count": 33,
     "metadata": {},
     "output_type": "execute_result"
    }
   ],
   "source": [
    "import os\n",
    "from dotenv import load_dotenv\n",
    "from langchain_groq import ChatGroq\n",
    "from langchain_core.output_parsers import PydanticOutputParser\n",
    "from pydantic import BaseModel, Field\n",
    "from typing import Annotated\n",
    "load_dotenv()"
   ]
  },
  {
   "cell_type": "code",
   "execution_count": 34,
   "id": "783c5875",
   "metadata": {},
   "outputs": [],
   "source": [
    "os.environ['OPENAI_API_KEY']=os.getenv('OPENAI_API_KEY')\n",
    "os.environ['GROQ_API_KEY']=os.getenv('GROQ_API_KEY')\n",
    "\n",
    "#Langchain Tracking and Tracing\n",
    "os.environ['LANGCHAIN_API_KEY']=os.getenv('LANGCHAIN_API_KEY')\n",
    "os.environ['LANGCHAIN_PROJECT']=os.getenv('LANGCHAIN_PROJECT')\n",
    "os.environ['LANGCHAIN_TRACING_V2']=\"true\""
   ]
  },
  {
   "cell_type": "code",
   "execution_count": 35,
   "id": "a19f4e6f",
   "metadata": {},
   "outputs": [
    {
     "name": "stdout",
     "output_type": "stream",
     "text": [
      "client=<groq.resources.chat.completions.Completions object at 0x00000201AF124E50> async_client=<groq.resources.chat.completions.AsyncCompletions object at 0x00000201CBB54A60> model_name='gemma2-9b-it' model_kwargs={} groq_api_key=SecretStr('**********')\n"
     ]
    }
   ],
   "source": [
    "llm2 = ChatGroq(model='gemma2-9b-it')\n",
    "print(llm2)"
   ]
  },
  {
   "cell_type": "code",
   "execution_count": 36,
   "id": "f2791d06",
   "metadata": {},
   "outputs": [
    {
     "data": {
      "text/plain": [
       "AIMessage(content='The capital of Italy is **Rome**. \\n', additional_kwargs={}, response_metadata={'token_usage': {'completion_tokens': 12, 'prompt_tokens': 12, 'total_tokens': 24, 'completion_time': 0.021818182, 'prompt_time': 0.001903226, 'queue_time': 0.161355644, 'total_time': 0.023721408}, 'model_name': 'gemma2-9b-it', 'system_fingerprint': 'fp_10c08bf97d', 'finish_reason': 'stop', 'logprobs': None}, id='run--9c667968-ffbf-4a82-acef-9ad115403103-0', usage_metadata={'input_tokens': 12, 'output_tokens': 12, 'total_tokens': 24})"
      ]
     },
     "execution_count": 36,
     "metadata": {},
     "output_type": "execute_result"
    }
   ],
   "source": [
    "result = llm2.invoke(\"Capital of Italy\")\n",
    "result"
   ]
  },
  {
   "cell_type": "code",
   "execution_count": 38,
   "id": "7348da40",
   "metadata": {},
   "outputs": [],
   "source": [
    "class Product(BaseModel):\n",
    "\n",
    "    name: Annotated[str, Field(..., description=\"Name of the prooduct\")]\n",
    "    details: Annotated[str, Field(..., description=\"Details of the product\")]\n",
    "    price: Annotated[float, Field(..., description=\"Tentative price of the product in USD\")]"
   ]
  },
  {
   "cell_type": "code",
   "execution_count": 39,
   "id": "139104ea",
   "metadata": {},
   "outputs": [],
   "source": [
    "output_parser = PydanticOutputParser(pydantic_object=Product)\n",
    "\n",
    "prompt = PromptTemplate(\n",
    "    template=\"Answer the following {query} in the format {format_instruction}\",\n",
    "    input_variables=[\"query\"],\n",
    "    partial_variables={\"format_instruction\": output_parser.get_format_instructions()}\n",
    ")"
   ]
  },
  {
   "cell_type": "code",
   "execution_count": 40,
   "id": "221b0766",
   "metadata": {},
   "outputs": [
    {
     "data": {
      "text/plain": [
       "Product(name='Ray-Ban Meta Glass', details='Smart glasses with augmented reality features.', price=299.0)"
      ]
     },
     "execution_count": 40,
     "metadata": {},
     "output_type": "execute_result"
    }
   ],
   "source": [
    "chain = prompt | llm2 | output_parser\n",
    "response = chain.invoke({\"query\": \"Rayban meta glass\"})\n",
    "response"
   ]
  }
 ],
 "metadata": {
  "kernelspec": {
   "display_name": "venv",
   "language": "python",
   "name": "python3"
  },
  "language_info": {
   "codemirror_mode": {
    "name": "ipython",
    "version": 3
   },
   "file_extension": ".py",
   "mimetype": "text/x-python",
   "name": "python",
   "nbconvert_exporter": "python",
   "pygments_lexer": "ipython3",
   "version": "3.9.13"
  }
 },
 "nbformat": 4,
 "nbformat_minor": 5
}
