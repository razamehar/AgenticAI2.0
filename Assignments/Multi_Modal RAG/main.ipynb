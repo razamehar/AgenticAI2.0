{
 "nbformat": 4,
 "nbformat_minor": 0,
 "metadata": {
  "colab": {
   "provenance": []
  },
  "kernelspec": {
   "name": "python3",
   "display_name": "Python 3 (ipykernel)",
   "language": "python"
  },
  "language_info": {
   "name": "python"
  }
 },
 "cells": [
  {
   "cell_type": "code",
   "metadata": {
    "id": "AmSlYLkZQxgg",
    "ExecuteTime": {
     "end_time": "2025-06-11T18:58:19.639403Z",
     "start_time": "2025-06-11T18:58:18.390363Z"
    }
   },
   "source": [
    "from PIL import Image\n",
    "from langchain.schema import Document\n",
    "from langchain.document_loaders import PyPDFLoader\n",
    "import pdfplumber\n",
    "import fitz\n",
    "import os\n",
    "from dotenv import load_dotenv\n",
    "import openai\n",
    "import base64\n",
    "from langchain.vectorstores import FAISS\n",
    "from langchain.embeddings import OpenAIEmbeddings\n",
    "from langchain.chat_models import ChatOpenAI\n",
    "from langchain.chains import RetrievalQA"
   ],
   "outputs": [],
   "execution_count": 35
  },
  {
   "metadata": {
    "ExecuteTime": {
     "end_time": "2025-06-11T18:06:46.750223Z",
     "start_time": "2025-06-11T18:06:46.660992Z"
    }
   },
   "cell_type": "code",
   "source": "load_dotenv()",
   "outputs": [
    {
     "data": {
      "text/plain": [
       "True"
      ]
     },
     "execution_count": 8,
     "metadata": {},
     "output_type": "execute_result"
    }
   ],
   "execution_count": 8
  },
  {
   "cell_type": "code",
   "source": [
    "def extract_text(pdf_file):\n",
    "  loader = PyPDFLoader(pdf_file)\n",
    "  text_docs = loader.load()\n",
    "  print(\"Text extracted\")\n",
    "  return text_docs"
   ],
   "metadata": {
    "id": "sTbL20YtRkk1",
    "ExecuteTime": {
     "end_time": "2025-06-11T18:07:07.131266Z",
     "start_time": "2025-06-11T18:07:07.119268Z"
    }
   },
   "outputs": [],
   "execution_count": 10
  },
  {
   "cell_type": "code",
   "source": [
    "def extract_tables(pdf_file):\n",
    "    table_docs = []\n",
    "\n",
    "    with pdfplumber.open(pdf_file) as pdf:\n",
    "        for i, page in enumerate(pdf.pages):\n",
    "            tables = page.extract_tables()\n",
    "            for table_index, table in enumerate(tables):\n",
    "                table_text = \"\\n\".join([\"\\t\".join([cell if cell is not None else \"\" for cell in row]) for row in table if row])\n",
    "\n",
    "\n",
    "                doc = Document(\n",
    "                    page_content=table_text,\n",
    "                    metadata={\"page\": i + 1, \"table_index\": table_index}\n",
    "                )\n",
    "                table_docs.append(doc)\n",
    "\n",
    "    print(\"Tables extracted\")\n",
    "    return table_docs"
   ],
   "metadata": {
    "id": "a5_JOjDSWeAS",
    "ExecuteTime": {
     "end_time": "2025-06-11T18:07:08.283082Z",
     "start_time": "2025-06-11T18:07:08.256096Z"
    }
   },
   "outputs": [],
   "execution_count": 11
  },
  {
   "cell_type": "code",
   "source": [
    "def openai_image_caption(image_path):\n",
    "    with open(image_path, \"rb\") as img_file:\n",
    "        image_data = base64.b64encode(img_file.read()).decode(\"utf-8\")\n",
    "\n",
    "    response = openai.chat.completions.create(\n",
    "        model=\"gpt-4o\",\n",
    "        messages=[\n",
    "            {\"role\": \"system\", \"content\": \"You describe charts, plots, and images.\"},\n",
    "            {\n",
    "                \"role\": \"user\",\n",
    "                \"content\": [\n",
    "                    {\"type\": \"text\", \"text\": \"Please provide a concise caption describing this image.\"},\n",
    "                    {\n",
    "                        \"type\": \"image_url\",\n",
    "                        \"image_url\": {\n",
    "                            \"url\": f\"data:image/png;base64,{image_data}\"\n",
    "                        }\n",
    "                    }\n",
    "                ]\n",
    "            }\n",
    "        ]\n",
    "    )\n",
    "    return response.choices[0].message.content\n"
   ],
   "metadata": {
    "id": "hRZgzM1wW568",
    "ExecuteTime": {
     "end_time": "2025-06-11T18:47:17.041837Z",
     "start_time": "2025-06-11T18:47:17.000597Z"
    }
   },
   "outputs": [],
   "execution_count": 26
  },
  {
   "cell_type": "code",
   "source": [
    "def extract_images_with_captions(pdf_file, save_dir=\"images\"):\n",
    "    os.makedirs(save_dir, exist_ok=True)\n",
    "    image_docs = []\n",
    "    doc = fitz.open(pdf_file)\n",
    "\n",
    "    for page_index in range(len(doc)):\n",
    "        page = doc[page_index]\n",
    "        image_list = page.get_images(full=True)\n",
    "\n",
    "        for img_index, img in enumerate(image_list):\n",
    "            xref = img[0]\n",
    "            base_image = doc.extract_image(xref)\n",
    "            image_bytes = base_image[\"image\"]\n",
    "            image_ext = base_image[\"ext\"]\n",
    "            image_path = os.path.join(save_dir, f\"page{page_index+1}_img{img_index+1}.{image_ext}\")\n",
    "\n",
    "            with open(image_path, \"wb\") as f:\n",
    "                f.write(image_bytes)\n",
    "\n",
    "            try:\n",
    "                caption = openai_image_caption(image_path)\n",
    "                print(f\"Page {page_index+1} Image {img_index+1} Caption: {caption}\")\n",
    "            except Exception as e:\n",
    "                caption = \"Caption generation failed\"\n",
    "                print(f\"Error captioning {image_path}: {e}\")\n",
    "\n",
    "            doc_obj = Document(\n",
    "                page_content=caption,\n",
    "                metadata={\n",
    "                    \"page\": page_index + 1,\n",
    "                    \"image_index\": img_index + 1,\n",
    "                    \"image_path\": image_path\n",
    "                }\n",
    "            )\n",
    "            image_docs.append(doc_obj)\n",
    "\n",
    "    return image_docs"
   ],
   "metadata": {
    "id": "bxjxIqyiAyFA",
    "ExecuteTime": {
     "end_time": "2025-06-11T18:47:39.437904Z",
     "start_time": "2025-06-11T18:47:39.395287Z"
    }
   },
   "outputs": [],
   "execution_count": 27
  },
  {
   "cell_type": "code",
   "source": "pdf_file = 'pdf.pdf'",
   "metadata": {
    "id": "bARQoO4xX-su",
    "ExecuteTime": {
     "end_time": "2025-06-11T18:07:45.094357Z",
     "start_time": "2025-06-11T18:07:45.076231Z"
    }
   },
   "outputs": [],
   "execution_count": 15
  },
  {
   "cell_type": "code",
   "source": [
    "text_docs = extract_text(pdf_file)"
   ],
   "metadata": {
    "colab": {
     "base_uri": "https://localhost:8080/"
    },
    "id": "cHI38n1yYt0u",
    "outputId": "fb5f50d7-9529-48be-ceb9-0ed17ef83671",
    "ExecuteTime": {
     "end_time": "2025-06-11T18:08:52.705970Z",
     "start_time": "2025-06-11T18:08:49.176081Z"
    }
   },
   "outputs": [
    {
     "name": "stdout",
     "output_type": "stream",
     "text": [
      "Text extracted\n"
     ]
    }
   ],
   "execution_count": 17
  },
  {
   "cell_type": "code",
   "source": [
    "table_docs = extract_tables(pdf_file)"
   ],
   "metadata": {
    "colab": {
     "base_uri": "https://localhost:8080/"
    },
    "id": "ysIbewvvY5TI",
    "outputId": "930c18c3-f0f2-4527-e679-691e40e5f82e"
   },
   "outputs": [],
   "execution_count": null
  },
  {
   "cell_type": "code",
   "source": [
    "image_docs = extract_images_with_captions(pdf_file, save_dir=\"images\")"
   ],
   "metadata": {
    "collapsed": true,
    "id": "VSoFWBkqZBGf"
   },
   "outputs": [],
   "execution_count": null
  },
  {
   "metadata": {
    "ExecuteTime": {
     "end_time": "2025-06-11T18:54:54.786910Z",
     "start_time": "2025-06-11T18:54:54.727957Z"
    }
   },
   "cell_type": "code",
   "source": "all_docs = text_docs + table_docs + image_docs",
   "outputs": [],
   "execution_count": 30
  },
  {
   "metadata": {
    "ExecuteTime": {
     "end_time": "2025-06-11T18:57:35.509406Z",
     "start_time": "2025-06-11T18:57:33.603924Z"
    }
   },
   "cell_type": "code",
   "source": [
    "db = FAISS.from_documents(all_docs, OpenAIEmbeddings())\n",
    "retriever = db.as_retriever()"
   ],
   "outputs": [],
   "execution_count": 34
  },
  {
   "metadata": {
    "ExecuteTime": {
     "end_time": "2025-06-11T18:58:57.754317Z",
     "start_time": "2025-06-11T18:58:57.701636Z"
    }
   },
   "cell_type": "code",
   "source": [
    "qa_chain = RetrievalQA.from_chain_type(\n",
    "    llm=ChatOpenAI(model=\"gpt-4o\"),\n",
    "    chain_type=\"stuff\",\n",
    "    retriever=retriever\n",
    ")"
   ],
   "outputs": [],
   "execution_count": 37
  },
  {
   "metadata": {
    "ExecuteTime": {
     "end_time": "2025-06-11T19:00:20.535836Z",
     "start_time": "2025-06-11T19:00:17.901573Z"
    }
   },
   "cell_type": "code",
   "source": "response = qa_chain.invoke(\"What do the graphs show in this PDF?\")",
   "outputs": [],
   "execution_count": 43
  },
  {
   "metadata": {
    "ExecuteTime": {
     "end_time": "2025-06-11T19:00:21.544164Z",
     "start_time": "2025-06-11T19:00:21.535163Z"
    }
   },
   "cell_type": "code",
   "source": "print(response[\"result\"])",
   "outputs": [
    {
     "name": "stdout",
     "output_type": "stream",
     "text": [
      "The graphs in the PDF show the following:\n",
      "\n",
      "1. A scatter plot with green and red data points forming a triangular shape, indicating a linear separation between the two color clusters.\n",
      "2. A histogram displaying the distribution of document toxicity scores, with most documents scoring low on the toxicity scale.\n",
      "3. A bar chart depicting win, tie, and loss rates across word count quintiles, showing that win rates generally increase in higher quintiles, with error bars indicating variability.\n",
      "4. A bar chart showing win, tie, and loss rates (%) by the number of turns, where win rates are generally the highest, followed by tie and loss rates, with error bars indicating variability.\n"
     ]
    }
   ],
   "execution_count": 44
  },
  {
   "metadata": {},
   "cell_type": "code",
   "outputs": [],
   "execution_count": null,
   "source": ""
  }
 ]
}
